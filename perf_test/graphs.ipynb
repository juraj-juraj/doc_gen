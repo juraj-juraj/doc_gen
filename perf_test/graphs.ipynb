{
 "cells": [
  {
   "cell_type": "code",
   "execution_count": null,
   "metadata": {},
   "outputs": [],
   "source": [
    "import matplotlib.pyplot as plt\n",
    "\n",
    "# Data for plotting\n",
    "lines_per_second = [5.96, 10.76, 14.58, 15.89, 15.62]\n",
    "instances = [1,2,4,6,8]\n",
    "\n",
    "fig, ax = plt.subplots()\n",
    "ax.plot(instances, lines_per_second, marker=\"o\")\n",
    "\n",
    "ax.set(xlabel='počet inštancií', ylabel='Anotované riadky za sekundu',\n",
    "       title='Výkonnosť modelu  ct2_codet5p_220m_docstring na cpu')\n",
    "ax.grid()\n",
    "\n",
    "fig.savefig(\"codet5p_220m_cpu.png\")\n",
    "plt.show()"
   ]
  },
  {
   "cell_type": "code",
   "execution_count": null,
   "metadata": {},
   "outputs": [],
   "source": [
    "import matplotlib.pyplot as plt\n",
    "\n",
    "# Data for plotting\n",
    "lines_per_second = [52.64, 73.16, 93.17, 96.79, 98.84]\n",
    "instances = [1,2,4,6,8]\n",
    "\n",
    "fig, ax = plt.subplots()\n",
    "ax.plot(instances, lines_per_second, marker=\"o\")\n",
    "\n",
    "ax.set(xlabel='počet inštancií', ylabel='Anotované riadky za sekundu',\n",
    "       title='Výkonnosť modelu  ct2_codet5p_220m_docstring na gpu')\n",
    "ax.grid()\n",
    "\n",
    "fig.savefig(\"codet5p_220m_gpu.png\")\n",
    "plt.show()"
   ]
  }
 ],
 "metadata": {
  "kernelspec": {
   "display_name": "Python 3",
   "language": "python",
   "name": "python3"
  },
  "language_info": {
   "codemirror_mode": {
    "name": "ipython",
    "version": 3
   },
   "file_extension": ".py",
   "mimetype": "text/x-python",
   "name": "python",
   "nbconvert_exporter": "python",
   "pygments_lexer": "ipython3",
   "version": "3.10.12"
  }
 },
 "nbformat": 4,
 "nbformat_minor": 2
}
