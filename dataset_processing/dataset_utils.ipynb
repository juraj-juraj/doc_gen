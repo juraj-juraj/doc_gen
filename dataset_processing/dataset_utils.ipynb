{
 "cells": [
  {
   "cell_type": "code",
   "execution_count": null,
   "metadata": {},
   "outputs": [],
   "source": [
    "#push dataset to huggingaface hub\n",
    "\n",
    "from datasets import load_from_disk\n",
    "\n",
    "dataset = load_from_disk(\"google_style_gpt_human_mix_2.ds/\")\n",
    "dataset.push_to_hub(\"juraj-juraj/python-docstring-human-gpt-generated-mix\")"
   ]
  },
  {
   "cell_type": "code",
   "execution_count": null,
   "metadata": {},
   "outputs": [],
   "source": [
    "from datasets import load_from_disk\n",
    "\n",
    "dataset = load_from_disk(\"../data/numpydoc_dataset_processsed.ds/\")\n",
    "print(f\"dataset len: {len(dataset['train'])}\")\n",
    "print(f\"dataset len: {len(dataset['test'])}\")\n",
    "print(f\"dataset len: {len(dataset['validation'])}\")\n"
   ]
  },
  {
   "cell_type": "code",
   "execution_count": null,
   "metadata": {},
   "outputs": [],
   "source": [
    "import pandas as pd\n",
    "\n",
    "datas = pd.read_pickle(\"../data/gpt_generated_google_style.pkl\")\n",
    "print(len(datas))"
   ]
  }
 ],
 "metadata": {
  "kernelspec": {
   "display_name": "Python 3",
   "language": "python",
   "name": "python3"
  },
  "language_info": {
   "codemirror_mode": {
    "name": "ipython",
    "version": 3
   },
   "file_extension": ".py",
   "mimetype": "text/x-python",
   "name": "python",
   "nbconvert_exporter": "python",
   "pygments_lexer": "ipython3",
   "version": "3.10.12"
  }
 },
 "nbformat": 4,
 "nbformat_minor": 2
}
